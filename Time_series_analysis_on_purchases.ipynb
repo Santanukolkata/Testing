{
 "cells": [
  {
   "cell_type": "code",
   "execution_count": 2,
   "metadata": {},
   "outputs": [],
   "source": [
    "import pandas as pd"
   ]
  },
  {
   "cell_type": "code",
   "execution_count": 3,
   "metadata": {},
   "outputs": [],
   "source": [
    "df=pd.read_excel('C:\\MyWork\\My_data\\Online_purchase.xlsx')"
   ]
  },
  {
   "cell_type": "code",
   "execution_count": 4,
   "metadata": {},
   "outputs": [
    {
     "data": {
      "text/html": [
       "<div>\n",
       "<style scoped>\n",
       "    .dataframe tbody tr th:only-of-type {\n",
       "        vertical-align: middle;\n",
       "    }\n",
       "\n",
       "    .dataframe tbody tr th {\n",
       "        vertical-align: top;\n",
       "    }\n",
       "\n",
       "    .dataframe thead th {\n",
       "        text-align: right;\n",
       "    }\n",
       "</style>\n",
       "<table border=\"1\" class=\"dataframe\">\n",
       "  <thead>\n",
       "    <tr style=\"text-align: right;\">\n",
       "      <th></th>\n",
       "      <th>SL#</th>\n",
       "      <th>Product</th>\n",
       "      <th>Item\\n Price</th>\n",
       "      <th>Delivery \\ncharges</th>\n",
       "      <th>Total</th>\n",
       "      <th>Purchase Date</th>\n",
       "    </tr>\n",
       "  </thead>\n",
       "  <tbody>\n",
       "    <tr>\n",
       "      <td>0</td>\n",
       "      <td>1</td>\n",
       "      <td>Seagate Expansion 1TB Portable External Hard D...</td>\n",
       "      <td>3999</td>\n",
       "      <td>49.0</td>\n",
       "      <td>4048</td>\n",
       "      <td>2013-12-25</td>\n",
       "    </tr>\n",
       "    <tr>\n",
       "      <td>1</td>\n",
       "      <td>2</td>\n",
       "      <td>Freedom at Midnight</td>\n",
       "      <td>396</td>\n",
       "      <td>30.0</td>\n",
       "      <td>426</td>\n",
       "      <td>2014-03-01</td>\n",
       "    </tr>\n",
       "    <tr>\n",
       "      <td>2</td>\n",
       "      <td>3</td>\n",
       "      <td>DELL INSPIRON 15R N5010 6 CELL ORIGINAL BATTERY</td>\n",
       "      <td>1860</td>\n",
       "      <td>0.0</td>\n",
       "      <td>1860</td>\n",
       "      <td>2014-03-01</td>\n",
       "    </tr>\n",
       "    <tr>\n",
       "      <td>3</td>\n",
       "      <td>4</td>\n",
       "      <td>Portronics My Buddy</td>\n",
       "      <td>1699</td>\n",
       "      <td>200.0</td>\n",
       "      <td>1899</td>\n",
       "      <td>2014-03-01</td>\n",
       "    </tr>\n",
       "    <tr>\n",
       "      <td>4</td>\n",
       "      <td>5</td>\n",
       "      <td>Pindia Beautiful Home shaped wooden wall key h...</td>\n",
       "      <td>326</td>\n",
       "      <td>0.0</td>\n",
       "      <td>326</td>\n",
       "      <td>2014-09-18</td>\n",
       "    </tr>\n",
       "  </tbody>\n",
       "</table>\n",
       "</div>"
      ],
      "text/plain": [
       "   SL#                                            Product  Item\\n Price   \\\n",
       "0    1  Seagate Expansion 1TB Portable External Hard D...           3999   \n",
       "1    2                               Freedom at Midnight             396   \n",
       "2    3   DELL INSPIRON 15R N5010 6 CELL ORIGINAL BATTERY            1860   \n",
       "3    4                               Portronics My Buddy            1699   \n",
       "4    5  Pindia Beautiful Home shaped wooden wall key h...            326   \n",
       "\n",
       "   Delivery \\ncharges  Total Purchase Date  \n",
       "0                49.0   4048    2013-12-25  \n",
       "1                30.0    426    2014-03-01  \n",
       "2                 0.0   1860    2014-03-01  \n",
       "3               200.0   1899    2014-03-01  \n",
       "4                 0.0    326    2014-09-18  "
      ]
     },
     "execution_count": 4,
     "metadata": {},
     "output_type": "execute_result"
    }
   ],
   "source": [
    "df.head()"
   ]
  },
  {
   "cell_type": "code",
   "execution_count": 5,
   "metadata": {},
   "outputs": [
    {
     "data": {
      "text/plain": [
       "Index(['SL#', 'Product', 'Item\\n Price ', 'Delivery \\ncharges', 'Total',\n",
       "       'Purchase Date'],\n",
       "      dtype='object')"
      ]
     },
     "execution_count": 5,
     "metadata": {},
     "output_type": "execute_result"
    }
   ],
   "source": [
    "df.columns"
   ]
  },
  {
   "cell_type": "code",
   "execution_count": 6,
   "metadata": {},
   "outputs": [
    {
     "data": {
      "text/plain": [
       "(172, 6)"
      ]
     },
     "execution_count": 6,
     "metadata": {},
     "output_type": "execute_result"
    }
   ],
   "source": [
    "df.shape"
   ]
  },
  {
   "cell_type": "code",
   "execution_count": 7,
   "metadata": {},
   "outputs": [],
   "source": [
    "df=df.set_index('Purchase Date')"
   ]
  },
  {
   "cell_type": "code",
   "execution_count": 8,
   "metadata": {},
   "outputs": [
    {
     "data": {
      "text/html": [
       "<div>\n",
       "<style scoped>\n",
       "    .dataframe tbody tr th:only-of-type {\n",
       "        vertical-align: middle;\n",
       "    }\n",
       "\n",
       "    .dataframe tbody tr th {\n",
       "        vertical-align: top;\n",
       "    }\n",
       "\n",
       "    .dataframe thead th {\n",
       "        text-align: right;\n",
       "    }\n",
       "</style>\n",
       "<table border=\"1\" class=\"dataframe\">\n",
       "  <thead>\n",
       "    <tr style=\"text-align: right;\">\n",
       "      <th></th>\n",
       "      <th>SL#</th>\n",
       "      <th>Product</th>\n",
       "      <th>Item\\n Price</th>\n",
       "      <th>Delivery \\ncharges</th>\n",
       "      <th>Total</th>\n",
       "    </tr>\n",
       "    <tr>\n",
       "      <th>Purchase Date</th>\n",
       "      <th></th>\n",
       "      <th></th>\n",
       "      <th></th>\n",
       "      <th></th>\n",
       "      <th></th>\n",
       "    </tr>\n",
       "  </thead>\n",
       "  <tbody>\n",
       "    <tr>\n",
       "      <td>2013-12-25</td>\n",
       "      <td>1</td>\n",
       "      <td>Seagate Expansion 1TB Portable External Hard D...</td>\n",
       "      <td>3999</td>\n",
       "      <td>49.0</td>\n",
       "      <td>4048</td>\n",
       "    </tr>\n",
       "    <tr>\n",
       "      <td>2014-03-01</td>\n",
       "      <td>2</td>\n",
       "      <td>Freedom at Midnight</td>\n",
       "      <td>396</td>\n",
       "      <td>30.0</td>\n",
       "      <td>426</td>\n",
       "    </tr>\n",
       "    <tr>\n",
       "      <td>2014-03-01</td>\n",
       "      <td>3</td>\n",
       "      <td>DELL INSPIRON 15R N5010 6 CELL ORIGINAL BATTERY</td>\n",
       "      <td>1860</td>\n",
       "      <td>0.0</td>\n",
       "      <td>1860</td>\n",
       "    </tr>\n",
       "    <tr>\n",
       "      <td>2014-03-01</td>\n",
       "      <td>4</td>\n",
       "      <td>Portronics My Buddy</td>\n",
       "      <td>1699</td>\n",
       "      <td>200.0</td>\n",
       "      <td>1899</td>\n",
       "    </tr>\n",
       "    <tr>\n",
       "      <td>2014-09-18</td>\n",
       "      <td>5</td>\n",
       "      <td>Pindia Beautiful Home shaped wooden wall key h...</td>\n",
       "      <td>326</td>\n",
       "      <td>0.0</td>\n",
       "      <td>326</td>\n",
       "    </tr>\n",
       "  </tbody>\n",
       "</table>\n",
       "</div>"
      ],
      "text/plain": [
       "               SL#                                            Product  \\\n",
       "Purchase Date                                                           \n",
       "2013-12-25       1  Seagate Expansion 1TB Portable External Hard D...   \n",
       "2014-03-01       2                               Freedom at Midnight    \n",
       "2014-03-01       3   DELL INSPIRON 15R N5010 6 CELL ORIGINAL BATTERY    \n",
       "2014-03-01       4                               Portronics My Buddy    \n",
       "2014-09-18       5  Pindia Beautiful Home shaped wooden wall key h...   \n",
       "\n",
       "               Item\\n Price   Delivery \\ncharges  Total  \n",
       "Purchase Date                                            \n",
       "2013-12-25              3999                49.0   4048  \n",
       "2014-03-01               396                30.0    426  \n",
       "2014-03-01              1860                 0.0   1860  \n",
       "2014-03-01              1699               200.0   1899  \n",
       "2014-09-18               326                 0.0    326  "
      ]
     },
     "execution_count": 8,
     "metadata": {},
     "output_type": "execute_result"
    }
   ],
   "source": [
    "df.head()"
   ]
  },
  {
   "cell_type": "code",
   "execution_count": 9,
   "metadata": {},
   "outputs": [],
   "source": [
    "df['year']=df.index.year"
   ]
  },
  {
   "cell_type": "code",
   "execution_count": 10,
   "metadata": {},
   "outputs": [
    {
     "data": {
      "text/html": [
       "<div>\n",
       "<style scoped>\n",
       "    .dataframe tbody tr th:only-of-type {\n",
       "        vertical-align: middle;\n",
       "    }\n",
       "\n",
       "    .dataframe tbody tr th {\n",
       "        vertical-align: top;\n",
       "    }\n",
       "\n",
       "    .dataframe thead th {\n",
       "        text-align: right;\n",
       "    }\n",
       "</style>\n",
       "<table border=\"1\" class=\"dataframe\">\n",
       "  <thead>\n",
       "    <tr style=\"text-align: right;\">\n",
       "      <th></th>\n",
       "      <th>SL#</th>\n",
       "      <th>Product</th>\n",
       "      <th>Item\\n Price</th>\n",
       "      <th>Delivery \\ncharges</th>\n",
       "      <th>Total</th>\n",
       "      <th>year</th>\n",
       "    </tr>\n",
       "    <tr>\n",
       "      <th>Purchase Date</th>\n",
       "      <th></th>\n",
       "      <th></th>\n",
       "      <th></th>\n",
       "      <th></th>\n",
       "      <th></th>\n",
       "      <th></th>\n",
       "    </tr>\n",
       "  </thead>\n",
       "  <tbody>\n",
       "    <tr>\n",
       "      <td>2013-12-25</td>\n",
       "      <td>1</td>\n",
       "      <td>Seagate Expansion 1TB Portable External Hard D...</td>\n",
       "      <td>3999</td>\n",
       "      <td>49.0</td>\n",
       "      <td>4048</td>\n",
       "      <td>2013</td>\n",
       "    </tr>\n",
       "    <tr>\n",
       "      <td>2014-03-01</td>\n",
       "      <td>2</td>\n",
       "      <td>Freedom at Midnight</td>\n",
       "      <td>396</td>\n",
       "      <td>30.0</td>\n",
       "      <td>426</td>\n",
       "      <td>2014</td>\n",
       "    </tr>\n",
       "    <tr>\n",
       "      <td>2014-03-01</td>\n",
       "      <td>3</td>\n",
       "      <td>DELL INSPIRON 15R N5010 6 CELL ORIGINAL BATTERY</td>\n",
       "      <td>1860</td>\n",
       "      <td>0.0</td>\n",
       "      <td>1860</td>\n",
       "      <td>2014</td>\n",
       "    </tr>\n",
       "    <tr>\n",
       "      <td>2014-03-01</td>\n",
       "      <td>4</td>\n",
       "      <td>Portronics My Buddy</td>\n",
       "      <td>1699</td>\n",
       "      <td>200.0</td>\n",
       "      <td>1899</td>\n",
       "      <td>2014</td>\n",
       "    </tr>\n",
       "    <tr>\n",
       "      <td>2014-09-18</td>\n",
       "      <td>5</td>\n",
       "      <td>Pindia Beautiful Home shaped wooden wall key h...</td>\n",
       "      <td>326</td>\n",
       "      <td>0.0</td>\n",
       "      <td>326</td>\n",
       "      <td>2014</td>\n",
       "    </tr>\n",
       "  </tbody>\n",
       "</table>\n",
       "</div>"
      ],
      "text/plain": [
       "               SL#                                            Product  \\\n",
       "Purchase Date                                                           \n",
       "2013-12-25       1  Seagate Expansion 1TB Portable External Hard D...   \n",
       "2014-03-01       2                               Freedom at Midnight    \n",
       "2014-03-01       3   DELL INSPIRON 15R N5010 6 CELL ORIGINAL BATTERY    \n",
       "2014-03-01       4                               Portronics My Buddy    \n",
       "2014-09-18       5  Pindia Beautiful Home shaped wooden wall key h...   \n",
       "\n",
       "               Item\\n Price   Delivery \\ncharges  Total  year  \n",
       "Purchase Date                                                  \n",
       "2013-12-25              3999                49.0   4048  2013  \n",
       "2014-03-01               396                30.0    426  2014  \n",
       "2014-03-01              1860                 0.0   1860  2014  \n",
       "2014-03-01              1699               200.0   1899  2014  \n",
       "2014-09-18               326                 0.0    326  2014  "
      ]
     },
     "execution_count": 10,
     "metadata": {},
     "output_type": "execute_result"
    }
   ],
   "source": [
    "df.head()"
   ]
  },
  {
   "cell_type": "code",
   "execution_count": 11,
   "metadata": {},
   "outputs": [],
   "source": [
    "df['Month']=df.index.month"
   ]
  },
  {
   "cell_type": "code",
   "execution_count": 12,
   "metadata": {},
   "outputs": [
    {
     "data": {
      "text/html": [
       "<div>\n",
       "<style scoped>\n",
       "    .dataframe tbody tr th:only-of-type {\n",
       "        vertical-align: middle;\n",
       "    }\n",
       "\n",
       "    .dataframe tbody tr th {\n",
       "        vertical-align: top;\n",
       "    }\n",
       "\n",
       "    .dataframe thead th {\n",
       "        text-align: right;\n",
       "    }\n",
       "</style>\n",
       "<table border=\"1\" class=\"dataframe\">\n",
       "  <thead>\n",
       "    <tr style=\"text-align: right;\">\n",
       "      <th></th>\n",
       "      <th>SL#</th>\n",
       "      <th>Product</th>\n",
       "      <th>Item\\n Price</th>\n",
       "      <th>Delivery \\ncharges</th>\n",
       "      <th>Total</th>\n",
       "      <th>year</th>\n",
       "      <th>Month</th>\n",
       "    </tr>\n",
       "    <tr>\n",
       "      <th>Purchase Date</th>\n",
       "      <th></th>\n",
       "      <th></th>\n",
       "      <th></th>\n",
       "      <th></th>\n",
       "      <th></th>\n",
       "      <th></th>\n",
       "      <th></th>\n",
       "    </tr>\n",
       "  </thead>\n",
       "  <tbody>\n",
       "    <tr>\n",
       "      <td>2013-12-25</td>\n",
       "      <td>1</td>\n",
       "      <td>Seagate Expansion 1TB Portable External Hard D...</td>\n",
       "      <td>3999</td>\n",
       "      <td>49.0</td>\n",
       "      <td>4048</td>\n",
       "      <td>2013</td>\n",
       "      <td>12</td>\n",
       "    </tr>\n",
       "    <tr>\n",
       "      <td>2014-03-01</td>\n",
       "      <td>2</td>\n",
       "      <td>Freedom at Midnight</td>\n",
       "      <td>396</td>\n",
       "      <td>30.0</td>\n",
       "      <td>426</td>\n",
       "      <td>2014</td>\n",
       "      <td>3</td>\n",
       "    </tr>\n",
       "    <tr>\n",
       "      <td>2014-03-01</td>\n",
       "      <td>3</td>\n",
       "      <td>DELL INSPIRON 15R N5010 6 CELL ORIGINAL BATTERY</td>\n",
       "      <td>1860</td>\n",
       "      <td>0.0</td>\n",
       "      <td>1860</td>\n",
       "      <td>2014</td>\n",
       "      <td>3</td>\n",
       "    </tr>\n",
       "    <tr>\n",
       "      <td>2014-03-01</td>\n",
       "      <td>4</td>\n",
       "      <td>Portronics My Buddy</td>\n",
       "      <td>1699</td>\n",
       "      <td>200.0</td>\n",
       "      <td>1899</td>\n",
       "      <td>2014</td>\n",
       "      <td>3</td>\n",
       "    </tr>\n",
       "    <tr>\n",
       "      <td>2014-09-18</td>\n",
       "      <td>5</td>\n",
       "      <td>Pindia Beautiful Home shaped wooden wall key h...</td>\n",
       "      <td>326</td>\n",
       "      <td>0.0</td>\n",
       "      <td>326</td>\n",
       "      <td>2014</td>\n",
       "      <td>9</td>\n",
       "    </tr>\n",
       "  </tbody>\n",
       "</table>\n",
       "</div>"
      ],
      "text/plain": [
       "               SL#                                            Product  \\\n",
       "Purchase Date                                                           \n",
       "2013-12-25       1  Seagate Expansion 1TB Portable External Hard D...   \n",
       "2014-03-01       2                               Freedom at Midnight    \n",
       "2014-03-01       3   DELL INSPIRON 15R N5010 6 CELL ORIGINAL BATTERY    \n",
       "2014-03-01       4                               Portronics My Buddy    \n",
       "2014-09-18       5  Pindia Beautiful Home shaped wooden wall key h...   \n",
       "\n",
       "               Item\\n Price   Delivery \\ncharges  Total  year  Month  \n",
       "Purchase Date                                                         \n",
       "2013-12-25              3999                49.0   4048  2013     12  \n",
       "2014-03-01               396                30.0    426  2014      3  \n",
       "2014-03-01              1860                 0.0   1860  2014      3  \n",
       "2014-03-01              1699               200.0   1899  2014      3  \n",
       "2014-09-18               326                 0.0    326  2014      9  "
      ]
     },
     "execution_count": 12,
     "metadata": {},
     "output_type": "execute_result"
    }
   ],
   "source": [
    "df.head()"
   ]
  },
  {
   "cell_type": "code",
   "execution_count": 13,
   "metadata": {},
   "outputs": [
    {
     "data": {
      "text/plain": [
       "(47, 7)"
      ]
     },
     "execution_count": 13,
     "metadata": {},
     "output_type": "execute_result"
    }
   ],
   "source": [
    "df.loc['2016'].shape"
   ]
  },
  {
   "cell_type": "code",
   "execution_count": 14,
   "metadata": {},
   "outputs": [
    {
     "data": {
      "text/html": [
       "<div>\n",
       "<style scoped>\n",
       "    .dataframe tbody tr th:only-of-type {\n",
       "        vertical-align: middle;\n",
       "    }\n",
       "\n",
       "    .dataframe tbody tr th {\n",
       "        vertical-align: top;\n",
       "    }\n",
       "\n",
       "    .dataframe thead th {\n",
       "        text-align: right;\n",
       "    }\n",
       "</style>\n",
       "<table border=\"1\" class=\"dataframe\">\n",
       "  <thead>\n",
       "    <tr style=\"text-align: right;\">\n",
       "      <th></th>\n",
       "      <th>SL#</th>\n",
       "      <th>Product</th>\n",
       "      <th>Item\\n Price</th>\n",
       "      <th>Delivery \\ncharges</th>\n",
       "      <th>Total</th>\n",
       "      <th>year</th>\n",
       "      <th>Month</th>\n",
       "    </tr>\n",
       "    <tr>\n",
       "      <th>Purchase Date</th>\n",
       "      <th></th>\n",
       "      <th></th>\n",
       "      <th></th>\n",
       "      <th></th>\n",
       "      <th></th>\n",
       "      <th></th>\n",
       "      <th></th>\n",
       "    </tr>\n",
       "  </thead>\n",
       "  <tbody>\n",
       "    <tr>\n",
       "      <td>2016-01-07</td>\n",
       "      <td>38</td>\n",
       "      <td>Scotch-Brite Jet Scrubber and Kitchen Squeegee...</td>\n",
       "      <td>286</td>\n",
       "      <td>20.0</td>\n",
       "      <td>306</td>\n",
       "      <td>2016</td>\n",
       "      <td>1</td>\n",
       "    </tr>\n",
       "    <tr>\n",
       "      <td>2016-01-07</td>\n",
       "      <td>39</td>\n",
       "      <td>Scotch-Brite Household Scrubber Brush</td>\n",
       "      <td>199</td>\n",
       "      <td>20.0</td>\n",
       "      <td>219</td>\n",
       "      <td>2016</td>\n",
       "      <td>1</td>\n",
       "    </tr>\n",
       "    <tr>\n",
       "      <td>2016-01-14</td>\n",
       "      <td>40</td>\n",
       "      <td>Ocean Victoria Glass Set, 6-Pieces, 325ml</td>\n",
       "      <td>339</td>\n",
       "      <td>40.0</td>\n",
       "      <td>379</td>\n",
       "      <td>2016</td>\n",
       "      <td>1</td>\n",
       "    </tr>\n",
       "    <tr>\n",
       "      <td>2016-01-20</td>\n",
       "      <td>41</td>\n",
       "      <td>Amazon.in Black Gift Card Box - Rs.1000, Black...</td>\n",
       "      <td>1000</td>\n",
       "      <td>0.0</td>\n",
       "      <td>1000</td>\n",
       "      <td>2016</td>\n",
       "      <td>1</td>\n",
       "    </tr>\n",
       "    <tr>\n",
       "      <td>2016-01-23</td>\n",
       "      <td>42</td>\n",
       "      <td>HP V210W 16GB USB Pen Drive</td>\n",
       "      <td>470</td>\n",
       "      <td>40.0</td>\n",
       "      <td>510</td>\n",
       "      <td>2016</td>\n",
       "      <td>1</td>\n",
       "    </tr>\n",
       "    <tr>\n",
       "      <td>2016-02-16</td>\n",
       "      <td>43</td>\n",
       "      <td>Black Single Round Mesh Metal Pen Pencil Tool ...</td>\n",
       "      <td>120</td>\n",
       "      <td>0.0</td>\n",
       "      <td>120</td>\n",
       "      <td>2016</td>\n",
       "      <td>2</td>\n",
       "    </tr>\n",
       "    <tr>\n",
       "      <td>2016-02-16</td>\n",
       "      <td>44</td>\n",
       "      <td>2 of GadgetsAccessories (100cm = 3 Foot = 1M) ...</td>\n",
       "      <td>378</td>\n",
       "      <td>0.0</td>\n",
       "      <td>378</td>\n",
       "      <td>2016</td>\n",
       "      <td>2</td>\n",
       "    </tr>\n",
       "    <tr>\n",
       "      <td>2016-02-26</td>\n",
       "      <td>45</td>\n",
       "      <td>Quick Heal Antivirus Pro - 2 PCs, 1 Year (DVD)</td>\n",
       "      <td>619</td>\n",
       "      <td>0.0</td>\n",
       "      <td>619</td>\n",
       "      <td>2016</td>\n",
       "      <td>2</td>\n",
       "    </tr>\n",
       "    <tr>\n",
       "      <td>2016-03-09</td>\n",
       "      <td>46</td>\n",
       "      <td>Amazon.in Black Gift Card Box - Rs.1000, Black...</td>\n",
       "      <td>1000</td>\n",
       "      <td>0.0</td>\n",
       "      <td>1000</td>\n",
       "      <td>2016</td>\n",
       "      <td>3</td>\n",
       "    </tr>\n",
       "  </tbody>\n",
       "</table>\n",
       "</div>"
      ],
      "text/plain": [
       "               SL#                                            Product  \\\n",
       "Purchase Date                                                           \n",
       "2016-01-07      38  Scotch-Brite Jet Scrubber and Kitchen Squeegee...   \n",
       "2016-01-07      39             Scotch-Brite Household Scrubber Brush    \n",
       "2016-01-14      40         Ocean Victoria Glass Set, 6-Pieces, 325ml    \n",
       "2016-01-20      41  Amazon.in Black Gift Card Box - Rs.1000, Black...   \n",
       "2016-01-23      42                       HP V210W 16GB USB Pen Drive    \n",
       "2016-02-16      43  Black Single Round Mesh Metal Pen Pencil Tool ...   \n",
       "2016-02-16      44  2 of GadgetsAccessories (100cm = 3 Foot = 1M) ...   \n",
       "2016-02-26      45    Quick Heal Antivirus Pro - 2 PCs, 1 Year (DVD)    \n",
       "2016-03-09      46  Amazon.in Black Gift Card Box - Rs.1000, Black...   \n",
       "\n",
       "               Item\\n Price   Delivery \\ncharges  Total  year  Month  \n",
       "Purchase Date                                                         \n",
       "2016-01-07               286                20.0    306  2016      1  \n",
       "2016-01-07               199                20.0    219  2016      1  \n",
       "2016-01-14               339                40.0    379  2016      1  \n",
       "2016-01-20              1000                 0.0   1000  2016      1  \n",
       "2016-01-23               470                40.0    510  2016      1  \n",
       "2016-02-16               120                 0.0    120  2016      2  \n",
       "2016-02-16               378                 0.0    378  2016      2  \n",
       "2016-02-26               619                 0.0    619  2016      2  \n",
       "2016-03-09              1000                 0.0   1000  2016      3  "
      ]
     },
     "execution_count": 14,
     "metadata": {},
     "output_type": "execute_result"
    }
   ],
   "source": [
    "df.loc['2016-01':'2016-03']"
   ]
  },
  {
   "cell_type": "code",
   "execution_count": 15,
   "metadata": {},
   "outputs": [],
   "source": [
    "%matplotlib inline"
   ]
  },
  {
   "cell_type": "code",
   "execution_count": 16,
   "metadata": {},
   "outputs": [],
   "source": [
    "df_grouped_by_month=df.groupby('Month').sum()"
   ]
  },
  {
   "cell_type": "code",
   "execution_count": 17,
   "metadata": {},
   "outputs": [
    {
     "data": {
      "text/html": [
       "<div>\n",
       "<style scoped>\n",
       "    .dataframe tbody tr th:only-of-type {\n",
       "        vertical-align: middle;\n",
       "    }\n",
       "\n",
       "    .dataframe tbody tr th {\n",
       "        vertical-align: top;\n",
       "    }\n",
       "\n",
       "    .dataframe thead th {\n",
       "        text-align: right;\n",
       "    }\n",
       "</style>\n",
       "<table border=\"1\" class=\"dataframe\">\n",
       "  <thead>\n",
       "    <tr style=\"text-align: right;\">\n",
       "      <th></th>\n",
       "      <th>SL#</th>\n",
       "      <th>Item\\n Price</th>\n",
       "      <th>Delivery \\ncharges</th>\n",
       "      <th>Total</th>\n",
       "      <th>year</th>\n",
       "    </tr>\n",
       "    <tr>\n",
       "      <th>Month</th>\n",
       "      <th></th>\n",
       "      <th></th>\n",
       "      <th></th>\n",
       "      <th></th>\n",
       "      <th></th>\n",
       "    </tr>\n",
       "  </thead>\n",
       "  <tbody>\n",
       "    <tr>\n",
       "      <td>1</td>\n",
       "      <td>1183</td>\n",
       "      <td>4664</td>\n",
       "      <td>396.0</td>\n",
       "      <td>5060</td>\n",
       "      <td>26226</td>\n",
       "    </tr>\n",
       "    <tr>\n",
       "      <td>2</td>\n",
       "      <td>500</td>\n",
       "      <td>6382</td>\n",
       "      <td>498.0</td>\n",
       "      <td>6880</td>\n",
       "      <td>16131</td>\n",
       "    </tr>\n",
       "    <tr>\n",
       "      <td>3</td>\n",
       "      <td>1298</td>\n",
       "      <td>9894</td>\n",
       "      <td>420.0</td>\n",
       "      <td>10314</td>\n",
       "      <td>28239</td>\n",
       "    </tr>\n",
       "    <tr>\n",
       "      <td>4</td>\n",
       "      <td>668</td>\n",
       "      <td>5899</td>\n",
       "      <td>330.0</td>\n",
       "      <td>6229</td>\n",
       "      <td>18150</td>\n",
       "    </tr>\n",
       "    <tr>\n",
       "      <td>5</td>\n",
       "      <td>1497</td>\n",
       "      <td>15281</td>\n",
       "      <td>319.0</td>\n",
       "      <td>15600</td>\n",
       "      <td>26231</td>\n",
       "    </tr>\n",
       "    <tr>\n",
       "      <td>6</td>\n",
       "      <td>615</td>\n",
       "      <td>4647</td>\n",
       "      <td>148.0</td>\n",
       "      <td>4795</td>\n",
       "      <td>14119</td>\n",
       "    </tr>\n",
       "    <tr>\n",
       "      <td>7</td>\n",
       "      <td>2650</td>\n",
       "      <td>28879</td>\n",
       "      <td>799.0</td>\n",
       "      <td>29678</td>\n",
       "      <td>62518</td>\n",
       "    </tr>\n",
       "    <tr>\n",
       "      <td>8</td>\n",
       "      <td>1104</td>\n",
       "      <td>7425</td>\n",
       "      <td>120.0</td>\n",
       "      <td>7545</td>\n",
       "      <td>20175</td>\n",
       "    </tr>\n",
       "    <tr>\n",
       "      <td>9</td>\n",
       "      <td>1604</td>\n",
       "      <td>44653</td>\n",
       "      <td>718.0</td>\n",
       "      <td>45371</td>\n",
       "      <td>42340</td>\n",
       "    </tr>\n",
       "    <tr>\n",
       "      <td>10</td>\n",
       "      <td>2001</td>\n",
       "      <td>22367</td>\n",
       "      <td>624.0</td>\n",
       "      <td>22991</td>\n",
       "      <td>44366</td>\n",
       "    </tr>\n",
       "    <tr>\n",
       "      <td>11</td>\n",
       "      <td>1062</td>\n",
       "      <td>5890</td>\n",
       "      <td>595.0</td>\n",
       "      <td>6485</td>\n",
       "      <td>28225</td>\n",
       "    </tr>\n",
       "    <tr>\n",
       "      <td>12</td>\n",
       "      <td>696</td>\n",
       "      <td>13026</td>\n",
       "      <td>254.0</td>\n",
       "      <td>13280</td>\n",
       "      <td>20157</td>\n",
       "    </tr>\n",
       "  </tbody>\n",
       "</table>\n",
       "</div>"
      ],
      "text/plain": [
       "        SL#  Item\\n Price   Delivery \\ncharges  Total   year\n",
       "Month                                                       \n",
       "1      1183           4664               396.0   5060  26226\n",
       "2       500           6382               498.0   6880  16131\n",
       "3      1298           9894               420.0  10314  28239\n",
       "4       668           5899               330.0   6229  18150\n",
       "5      1497          15281               319.0  15600  26231\n",
       "6       615           4647               148.0   4795  14119\n",
       "7      2650          28879               799.0  29678  62518\n",
       "8      1104           7425               120.0   7545  20175\n",
       "9      1604          44653               718.0  45371  42340\n",
       "10     2001          22367               624.0  22991  44366\n",
       "11     1062           5890               595.0   6485  28225\n",
       "12      696          13026               254.0  13280  20157"
      ]
     },
     "execution_count": 17,
     "metadata": {},
     "output_type": "execute_result"
    }
   ],
   "source": [
    "df_grouped_by_month"
   ]
  },
  {
   "cell_type": "code",
   "execution_count": 18,
   "metadata": {},
   "outputs": [
    {
     "data": {
      "text/plain": [
       "<matplotlib.axes._subplots.AxesSubplot at 0x64c1ac4208>"
      ]
     },
     "execution_count": 18,
     "metadata": {},
     "output_type": "execute_result"
    },
    {
     "data": {
      "image/png": "[encoded data removed]",
      "text/plain": [
       "<Figure size 432x288 with 1 Axes>"
      ]
     },
     "metadata": {
      "needs_background": "light"
     },
     "output_type": "display_data"
    }
   ],
   "source": [
    "df_grouped_by_month.plot(y='Total',kind='bar')"
   ]
  },
  {
   "cell_type": "code",
   "execution_count": 19,
   "metadata": {},
   "outputs": [
    {
     "data": {
      "text/plain": [
       "<matplotlib.axes._subplots.AxesSubplot at 0x64c1e371c8>"
      ]
     },
     "execution_count": 19,
     "metadata": {},
     "output_type": "execute_result"
    },
    {
     "data": {
      "image/png": "[encoded data removed]",
      "text/plain": [
       "<Figure size 432x288 with 1 Axes>"
      ]
     },
     "metadata": {
      "needs_background": "light"
     },
     "output_type": "display_data"
    }
   ],
   "source": [
    "df_grouped_by_month.boxplot('Total')"
   ]
  },
  {
   "cell_type": "code",
   "execution_count": 20,
   "metadata": {},
   "outputs": [
    {
     "data": {
      "text/plain": [
       "28906.416666666668"
      ]
     },
     "execution_count": 20,
     "metadata": {},
     "output_type": "execute_result"
    }
   ],
   "source": [
    "df_grouped_by_month['year'].mean()"
   ]
  },
  {
   "cell_type": "code",
   "execution_count": 21,
   "metadata": {},
   "outputs": [
    {
     "data": {
      "text/plain": [
       "14189.689166038412"
      ]
     },
     "execution_count": 21,
     "metadata": {},
     "output_type": "execute_result"
    }
   ],
   "source": [
    "df_grouped_by_month['year'].std()"
   ]
  },
  {
   "cell_type": "code",
   "execution_count": 22,
   "metadata": {},
   "outputs": [],
   "source": [
    "import numpy as np"
   ]
  },
  {
   "cell_type": "code",
   "execution_count": 23,
   "metadata": {},
   "outputs": [
    {
     "data": {
      "text/plain": [
       "1012.953488372093"
      ]
     },
     "execution_count": 23,
     "metadata": {},
     "output_type": "execute_result"
    }
   ],
   "source": [
    "df['Total'].mean()"
   ]
  },
  {
   "cell_type": "code",
   "execution_count": 47,
   "metadata": {},
   "outputs": [
    {
     "name": "stdout",
     "output_type": "stream",
     "text": [
      "               SL#                                            Product  \\\n",
      "Purchase Date                                                           \n",
      "2013-12-25       1  Seagate Expansion 1TB Portable External Hard D...   \n",
      "2014-03-01       2                               Freedom at Midnight    \n",
      "2014-03-01       3   DELL INSPIRON 15R N5010 6 CELL ORIGINAL BATTERY    \n",
      "2014-03-01       4                               Portronics My Buddy    \n",
      "2014-09-18       5  Pindia Beautiful Home shaped wooden wall key h...   \n",
      "...            ...                                                ...   \n",
      "2019-10-18     168  Glasgow Edge to Edge Tempered Glass Screen Pro...   \n",
      "2019-10-18     169  Newlike Nokia 6.1 Plus 2018 Shock Proof Duel L...   \n",
      "2019-10-18     170  Nayasa Superplast Plastic Oil Dispenser 1 Litr...   \n",
      "2019-10-26     171  Cello H2O Stainless Steel Water Bottle, 1 Litr...   \n",
      "2019-10-26     172  Cello Max Fresh Hot Wave Lunch Box with Inner ...   \n",
      "\n",
      "               Item\\n Price   Total  year  Month  \n",
      "Purchase Date                                     \n",
      "2013-12-25              3999   4048  2013     12  \n",
      "2014-03-01               396    426  2014      3  \n",
      "2014-03-01              1860   1860  2014      3  \n",
      "2014-03-01              1699   1899  2014      3  \n",
      "2014-09-18               326    326  2014      9  \n",
      "...                      ...    ...   ...    ...  \n",
      "2019-10-18               149    149  2019     10  \n",
      "2019-10-18               299    299  2019     10  \n",
      "2019-10-18               129    129  2019     10  \n",
      "2019-10-26               459    459  2019     10  \n",
      "2019-10-26               648    648  2019     10  \n",
      "\n",
      "[172 rows x 6 columns]\n"
     ]
    }
   ],
   "source": [
    "string_type = df.select_dtypes(exclude=['float64'])\n",
    "print(string_type)"
   ]
  },
  {
   "cell_type": "code",
   "execution_count": null,
   "metadata": {},
   "outputs": [],
   "source": []
  }
 ],
 "metadata": {
  "kernelspec": {
   "display_name": "Python 3",
   "language": "python",
   "name": "python3"
  },
  "language_info": {
   "codemirror_mode": {
    "name": "ipython",
    "version": 3
   },
   "file_extension": ".py",
   "mimetype": "text/x-python",
   "name": "python",
   "nbconvert_exporter": "python",
   "pygments_lexer": "ipython3",
   "version": "3.7.4"
  }
 },
 "nbformat": 4,
 "nbformat_minor": 2
}
