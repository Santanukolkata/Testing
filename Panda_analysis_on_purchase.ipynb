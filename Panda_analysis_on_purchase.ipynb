{
 "cells": [
  {
   "cell_type": "code",
   "execution_count": 3,
   "metadata": {},
   "outputs": [],
   "source": [
    "import pandas as pd"
   ]
  },
  {
   "cell_type": "code",
   "execution_count": 4,
   "metadata": {},
   "outputs": [],
   "source": [
    "df=pd.read_excel('C:\\MyWork\\My_data\\Online_purchase.xlsx')"
   ]
  },
  {
   "cell_type": "code",
   "execution_count": 5,
   "metadata": {},
   "outputs": [
    {
     "data": {
      "text/html": [
       "<div>\n",
       "<style scoped>\n",
       "    .dataframe tbody tr th:only-of-type {\n",
       "        vertical-align: middle;\n",
       "    }\n",
       "\n",
       "    .dataframe tbody tr th {\n",
       "        vertical-align: top;\n",
       "    }\n",
       "\n",
       "    .dataframe thead th {\n",
       "        text-align: right;\n",
       "    }\n",
       "</style>\n",
       "<table border=\"1\" class=\"dataframe\">\n",
       "  <thead>\n",
       "    <tr style=\"text-align: right;\">\n",
       "      <th></th>\n",
       "      <th>SL#</th>\n",
       "      <th>Product</th>\n",
       "      <th>Item\\n Price</th>\n",
       "      <th>Delivery \\ncharges</th>\n",
       "      <th>Total</th>\n",
       "      <th>Purchase Date</th>\n",
       "    </tr>\n",
       "  </thead>\n",
       "  <tbody>\n",
       "    <tr>\n",
       "      <td>0</td>\n",
       "      <td>1</td>\n",
       "      <td>Seagate Expansion 1TB Portable External Hard D...</td>\n",
       "      <td>3999</td>\n",
       "      <td>49.0</td>\n",
       "      <td>4048</td>\n",
       "      <td>2013-12-25</td>\n",
       "    </tr>\n",
       "    <tr>\n",
       "      <td>1</td>\n",
       "      <td>2</td>\n",
       "      <td>Freedom at Midnight</td>\n",
       "      <td>396</td>\n",
       "      <td>30.0</td>\n",
       "      <td>426</td>\n",
       "      <td>2014-03-01</td>\n",
       "    </tr>\n",
       "    <tr>\n",
       "      <td>2</td>\n",
       "      <td>3</td>\n",
       "      <td>DELL INSPIRON 15R N5010 6 CELL ORIGINAL BATTERY</td>\n",
       "      <td>1860</td>\n",
       "      <td>0.0</td>\n",
       "      <td>1860</td>\n",
       "      <td>2014-03-01</td>\n",
       "    </tr>\n",
       "    <tr>\n",
       "      <td>3</td>\n",
       "      <td>4</td>\n",
       "      <td>Portronics My Buddy</td>\n",
       "      <td>1699</td>\n",
       "      <td>200.0</td>\n",
       "      <td>1899</td>\n",
       "      <td>2014-03-01</td>\n",
       "    </tr>\n",
       "    <tr>\n",
       "      <td>4</td>\n",
       "      <td>5</td>\n",
       "      <td>Pindia Beautiful Home shaped wooden wall key h...</td>\n",
       "      <td>326</td>\n",
       "      <td>0.0</td>\n",
       "      <td>326</td>\n",
       "      <td>2014-09-18</td>\n",
       "    </tr>\n",
       "  </tbody>\n",
       "</table>\n",
       "</div>"
      ],
      "text/plain": [
       "   SL#                                            Product  Item\\n Price   \\\n",
       "0    1  Seagate Expansion 1TB Portable External Hard D...           3999   \n",
       "1    2                               Freedom at Midnight             396   \n",
       "2    3   DELL INSPIRON 15R N5010 6 CELL ORIGINAL BATTERY            1860   \n",
       "3    4                               Portronics My Buddy            1699   \n",
       "4    5  Pindia Beautiful Home shaped wooden wall key h...            326   \n",
       "\n",
       "   Delivery \\ncharges  Total Purchase Date  \n",
       "0                49.0   4048    2013-12-25  \n",
       "1                30.0    426    2014-03-01  \n",
       "2                 0.0   1860    2014-03-01  \n",
       "3               200.0   1899    2014-03-01  \n",
       "4                 0.0    326    2014-09-18  "
      ]
     },
     "execution_count": 5,
     "metadata": {},
     "output_type": "execute_result"
    }
   ],
   "source": [
    "df.head()"
   ]
  },
  {
   "cell_type": "code",
   "execution_count": 6,
   "metadata": {},
   "outputs": [
    {
     "data": {
      "text/plain": [
       "Index(['SL#', 'Product', 'Item\\n Price ', 'Delivery \\ncharges', 'Total',\n",
       "       'Purchase Date'],\n",
       "      dtype='object')"
      ]
     },
     "execution_count": 6,
     "metadata": {},
     "output_type": "execute_result"
    }
   ],
   "source": [
    "df.columns"
   ]
  },
  {
   "cell_type": "code",
   "execution_count": 7,
   "metadata": {},
   "outputs": [
    {
     "data": {
      "text/plain": [
       "(172, 6)"
      ]
     },
     "execution_count": 7,
     "metadata": {},
     "output_type": "execute_result"
    }
   ],
   "source": [
    "df.shape"
   ]
  },
  {
   "cell_type": "code",
   "execution_count": 8,
   "metadata": {},
   "outputs": [
    {
     "data": {
      "text/plain": [
       "pandas.core.series.Series"
      ]
     },
     "execution_count": 8,
     "metadata": {},
     "output_type": "execute_result"
    }
   ],
   "source": [
    "type(df[\"Purchase Date\"])"
   ]
  },
  {
   "cell_type": "code",
   "execution_count": 9,
   "metadata": {},
   "outputs": [
    {
     "data": {
      "text/plain": [
       "SL#                            int64\n",
       "Product                       object\n",
       "Item\\n Price                   int64\n",
       "Delivery \\ncharges           float64\n",
       "Total                          int64\n",
       "Purchase Date         datetime64[ns]\n",
       "dtype: object"
      ]
     },
     "execution_count": 9,
     "metadata": {},
     "output_type": "execute_result"
    }
   ],
   "source": [
    "df.dtypes"
   ]
  },
  {
   "cell_type": "code",
   "execution_count": 10,
   "metadata": {},
   "outputs": [],
   "source": [
    "df.index = df['Purchase Date']"
   ]
  },
  {
   "cell_type": "code",
   "execution_count": 11,
   "metadata": {},
   "outputs": [],
   "source": [
    "df['year'] = pd.DatetimeIndex(df['Purchase Date']).year"
   ]
  },
  {
   "cell_type": "code",
   "execution_count": 12,
   "metadata": {},
   "outputs": [
    {
     "data": {
      "text/html": [
       "<div>\n",
       "<style scoped>\n",
       "    .dataframe tbody tr th:only-of-type {\n",
       "        vertical-align: middle;\n",
       "    }\n",
       "\n",
       "    .dataframe tbody tr th {\n",
       "        vertical-align: top;\n",
       "    }\n",
       "\n",
       "    .dataframe thead th {\n",
       "        text-align: right;\n",
       "    }\n",
       "</style>\n",
       "<table border=\"1\" class=\"dataframe\">\n",
       "  <thead>\n",
       "    <tr style=\"text-align: right;\">\n",
       "      <th></th>\n",
       "      <th>SL#</th>\n",
       "      <th>Product</th>\n",
       "      <th>Item\\n Price</th>\n",
       "      <th>Delivery \\ncharges</th>\n",
       "      <th>Total</th>\n",
       "      <th>Purchase Date</th>\n",
       "      <th>year</th>\n",
       "    </tr>\n",
       "    <tr>\n",
       "      <th>Purchase Date</th>\n",
       "      <th></th>\n",
       "      <th></th>\n",
       "      <th></th>\n",
       "      <th></th>\n",
       "      <th></th>\n",
       "      <th></th>\n",
       "      <th></th>\n",
       "    </tr>\n",
       "  </thead>\n",
       "  <tbody>\n",
       "    <tr>\n",
       "      <td>2013-12-25</td>\n",
       "      <td>1</td>\n",
       "      <td>Seagate Expansion 1TB Portable External Hard D...</td>\n",
       "      <td>3999</td>\n",
       "      <td>49.0</td>\n",
       "      <td>4048</td>\n",
       "      <td>2013-12-25</td>\n",
       "      <td>2013</td>\n",
       "    </tr>\n",
       "    <tr>\n",
       "      <td>2014-03-01</td>\n",
       "      <td>2</td>\n",
       "      <td>Freedom at Midnight</td>\n",
       "      <td>396</td>\n",
       "      <td>30.0</td>\n",
       "      <td>426</td>\n",
       "      <td>2014-03-01</td>\n",
       "      <td>2014</td>\n",
       "    </tr>\n",
       "    <tr>\n",
       "      <td>2014-03-01</td>\n",
       "      <td>3</td>\n",
       "      <td>DELL INSPIRON 15R N5010 6 CELL ORIGINAL BATTERY</td>\n",
       "      <td>1860</td>\n",
       "      <td>0.0</td>\n",
       "      <td>1860</td>\n",
       "      <td>2014-03-01</td>\n",
       "      <td>2014</td>\n",
       "    </tr>\n",
       "    <tr>\n",
       "      <td>2014-03-01</td>\n",
       "      <td>4</td>\n",
       "      <td>Portronics My Buddy</td>\n",
       "      <td>1699</td>\n",
       "      <td>200.0</td>\n",
       "      <td>1899</td>\n",
       "      <td>2014-03-01</td>\n",
       "      <td>2014</td>\n",
       "    </tr>\n",
       "    <tr>\n",
       "      <td>2014-09-18</td>\n",
       "      <td>5</td>\n",
       "      <td>Pindia Beautiful Home shaped wooden wall key h...</td>\n",
       "      <td>326</td>\n",
       "      <td>0.0</td>\n",
       "      <td>326</td>\n",
       "      <td>2014-09-18</td>\n",
       "      <td>2014</td>\n",
       "    </tr>\n",
       "  </tbody>\n",
       "</table>\n",
       "</div>"
      ],
      "text/plain": [
       "               SL#                                            Product  \\\n",
       "Purchase Date                                                           \n",
       "2013-12-25       1  Seagate Expansion 1TB Portable External Hard D...   \n",
       "2014-03-01       2                               Freedom at Midnight    \n",
       "2014-03-01       3   DELL INSPIRON 15R N5010 6 CELL ORIGINAL BATTERY    \n",
       "2014-03-01       4                               Portronics My Buddy    \n",
       "2014-09-18       5  Pindia Beautiful Home shaped wooden wall key h...   \n",
       "\n",
       "               Item\\n Price   Delivery \\ncharges  Total Purchase Date  year  \n",
       "Purchase Date                                                                \n",
       "2013-12-25              3999                49.0   4048    2013-12-25  2013  \n",
       "2014-03-01               396                30.0    426    2014-03-01  2014  \n",
       "2014-03-01              1860                 0.0   1860    2014-03-01  2014  \n",
       "2014-03-01              1699               200.0   1899    2014-03-01  2014  \n",
       "2014-09-18               326                 0.0    326    2014-09-18  2014  "
      ]
     },
     "execution_count": 12,
     "metadata": {},
     "output_type": "execute_result"
    }
   ],
   "source": [
    "df.head()"
   ]
  },
  {
   "cell_type": "code",
   "execution_count": 13,
   "metadata": {},
   "outputs": [
    {
     "data": {
      "text/html": [
       "<div>\n",
       "<style scoped>\n",
       "    .dataframe tbody tr th:only-of-type {\n",
       "        vertical-align: middle;\n",
       "    }\n",
       "\n",
       "    .dataframe tbody tr th {\n",
       "        vertical-align: top;\n",
       "    }\n",
       "\n",
       "    .dataframe thead th {\n",
       "        text-align: right;\n",
       "    }\n",
       "</style>\n",
       "<table border=\"1\" class=\"dataframe\">\n",
       "  <thead>\n",
       "    <tr style=\"text-align: right;\">\n",
       "      <th></th>\n",
       "      <th>SL#</th>\n",
       "      <th>Item\\n Price</th>\n",
       "      <th>Delivery \\ncharges</th>\n",
       "      <th>Total</th>\n",
       "    </tr>\n",
       "    <tr>\n",
       "      <th>year</th>\n",
       "      <th></th>\n",
       "      <th></th>\n",
       "      <th></th>\n",
       "      <th></th>\n",
       "    </tr>\n",
       "  </thead>\n",
       "  <tbody>\n",
       "    <tr>\n",
       "      <td>2013</td>\n",
       "      <td>1</td>\n",
       "      <td>3999</td>\n",
       "      <td>49.0</td>\n",
       "      <td>4048</td>\n",
       "    </tr>\n",
       "    <tr>\n",
       "      <td>2014</td>\n",
       "      <td>44</td>\n",
       "      <td>9448</td>\n",
       "      <td>368.0</td>\n",
       "      <td>9816</td>\n",
       "    </tr>\n",
       "    <tr>\n",
       "      <td>2015</td>\n",
       "      <td>658</td>\n",
       "      <td>20856</td>\n",
       "      <td>1243.0</td>\n",
       "      <td>22099</td>\n",
       "    </tr>\n",
       "    <tr>\n",
       "      <td>2016</td>\n",
       "      <td>2867</td>\n",
       "      <td>27963</td>\n",
       "      <td>1697.0</td>\n",
       "      <td>29660</td>\n",
       "    </tr>\n",
       "    <tr>\n",
       "      <td>2017</td>\n",
       "      <td>3451</td>\n",
       "      <td>37560</td>\n",
       "      <td>1189.0</td>\n",
       "      <td>38749</td>\n",
       "    </tr>\n",
       "  </tbody>\n",
       "</table>\n",
       "</div>"
      ],
      "text/plain": [
       "       SL#  Item\\n Price   Delivery \\ncharges  Total\n",
       "year                                                \n",
       "2013     1           3999                49.0   4048\n",
       "2014    44           9448               368.0   9816\n",
       "2015   658          20856              1243.0  22099\n",
       "2016  2867          27963              1697.0  29660\n",
       "2017  3451          37560              1189.0  38749"
      ]
     },
     "execution_count": 13,
     "metadata": {},
     "output_type": "execute_result"
    }
   ],
   "source": [
    "\n",
    "df_grouped=df.groupby('year').sum()\n",
    "df_grouped.head()"
   ]
  },
  {
   "cell_type": "code",
   "execution_count": 14,
   "metadata": {},
   "outputs": [],
   "source": [
    "%matplotlib inline"
   ]
  },
  {
   "cell_type": "code",
   "execution_count": 15,
   "metadata": {},
   "outputs": [
    {
     "data": {
      "text/plain": [
       "Index(['SL#', 'Item\\n Price ', 'Delivery \\ncharges', 'Total'], dtype='object')"
      ]
     },
     "execution_count": 15,
     "metadata": {},
     "output_type": "execute_result"
    }
   ],
   "source": [
    "df_grouped.columns"
   ]
  },
  {
   "cell_type": "code",
   "execution_count": 16,
   "metadata": {},
   "outputs": [
    {
     "data": {
      "text/plain": [
       "<matplotlib.axes._subplots.AxesSubplot at 0x12085f18c8>"
      ]
     },
     "execution_count": 16,
     "metadata": {},
     "output_type": "execute_result"
    },
    {
     "data": {
      "image/png": "[encoded data removed]",
      "text/plain": [
       "<Figure size 432x288 with 1 Axes>"
      ]
     },
     "metadata": {
      "needs_background": "light"
     },
     "output_type": "display_data"
    }
   ],
   "source": [
    "df_grouped.plot(y=\"Total\",marker='*' ,markersize=10)"
   ]
  },
  {
   "cell_type": "code",
   "execution_count": 17,
   "metadata": {},
   "outputs": [
    {
     "data": {
      "text/plain": [
       "(47, 7)"
      ]
     },
     "execution_count": 17,
     "metadata": {},
     "output_type": "execute_result"
    }
   ],
   "source": [
    "df.loc['2016'].shape"
   ]
  },
  {
   "cell_type": "code",
   "execution_count": 18,
   "metadata": {},
   "outputs": [],
   "source": [
    "%matplotlib inline"
   ]
  },
  {
   "cell_type": "code",
   "execution_count": 19,
   "metadata": {},
   "outputs": [
    {
     "data": {
      "text/html": [
       "<div>\n",
       "<style scoped>\n",
       "    .dataframe tbody tr th:only-of-type {\n",
       "        vertical-align: middle;\n",
       "    }\n",
       "\n",
       "    .dataframe tbody tr th {\n",
       "        vertical-align: top;\n",
       "    }\n",
       "\n",
       "    .dataframe thead th {\n",
       "        text-align: right;\n",
       "    }\n",
       "</style>\n",
       "<table border=\"1\" class=\"dataframe\">\n",
       "  <thead>\n",
       "    <tr style=\"text-align: right;\">\n",
       "      <th></th>\n",
       "      <th>SL#</th>\n",
       "      <th>Item\\n Price</th>\n",
       "      <th>Delivery \\ncharges</th>\n",
       "      <th>Total</th>\n",
       "      <th>year</th>\n",
       "    </tr>\n",
       "    <tr>\n",
       "      <th>Month</th>\n",
       "      <th></th>\n",
       "      <th></th>\n",
       "      <th></th>\n",
       "      <th></th>\n",
       "      <th></th>\n",
       "    </tr>\n",
       "  </thead>\n",
       "  <tbody>\n",
       "    <tr>\n",
       "      <td>1</td>\n",
       "      <td>1183</td>\n",
       "      <td>4664</td>\n",
       "      <td>396.0</td>\n",
       "      <td>5060</td>\n",
       "      <td>26226</td>\n",
       "    </tr>\n",
       "    <tr>\n",
       "      <td>2</td>\n",
       "      <td>500</td>\n",
       "      <td>6382</td>\n",
       "      <td>498.0</td>\n",
       "      <td>6880</td>\n",
       "      <td>16131</td>\n",
       "    </tr>\n",
       "    <tr>\n",
       "      <td>3</td>\n",
       "      <td>1298</td>\n",
       "      <td>9894</td>\n",
       "      <td>420.0</td>\n",
       "      <td>10314</td>\n",
       "      <td>28239</td>\n",
       "    </tr>\n",
       "    <tr>\n",
       "      <td>4</td>\n",
       "      <td>668</td>\n",
       "      <td>5899</td>\n",
       "      <td>330.0</td>\n",
       "      <td>6229</td>\n",
       "      <td>18150</td>\n",
       "    </tr>\n",
       "    <tr>\n",
       "      <td>5</td>\n",
       "      <td>1497</td>\n",
       "      <td>15281</td>\n",
       "      <td>319.0</td>\n",
       "      <td>15600</td>\n",
       "      <td>26231</td>\n",
       "    </tr>\n",
       "  </tbody>\n",
       "</table>\n",
       "</div>"
      ],
      "text/plain": [
       "        SL#  Item\\n Price   Delivery \\ncharges  Total   year\n",
       "Month                                                       \n",
       "1      1183           4664               396.0   5060  26226\n",
       "2       500           6382               498.0   6880  16131\n",
       "3      1298           9894               420.0  10314  28239\n",
       "4       668           5899               330.0   6229  18150\n",
       "5      1497          15281               319.0  15600  26231"
      ]
     },
     "execution_count": 19,
     "metadata": {},
     "output_type": "execute_result"
    }
   ],
   "source": [
    "df['Month']=df.index.month\n",
    "df_grouped_by_month=df.groupby('Month').sum()\n",
    "df_grouped_by_month.head()"
   ]
  },
  {
   "cell_type": "code",
   "execution_count": 20,
   "metadata": {},
   "outputs": [
    {
     "data": {
      "text/plain": [
       "<matplotlib.axes._subplots.AxesSubplot at 0x1208a3b948>"
      ]
     },
     "execution_count": 20,
     "metadata": {},
     "output_type": "execute_result"
    },
    {
     "data": {
      "image/png": "[encoded data removed]",
      "text/plain": [
       "<Figure size 432x288 with 1 Axes>"
      ]
     },
     "metadata": {
      "needs_background": "light"
     },
     "output_type": "display_data"
    }
   ],
   "source": [
    "df_grouped_by_month.plot(y='Total',kind='bar')"
   ]
  },
  {
   "cell_type": "code",
   "execution_count": 21,
   "metadata": {},
   "outputs": [
    {
     "name": "stdout",
     "output_type": "stream",
     "text": [
      "               SL#                                            Product  \\\n",
      "Purchase Date                                                           \n",
      "2013-12-25       1  Seagate Expansion 1TB Portable External Hard D...   \n",
      "2014-03-01       2                               Freedom at Midnight    \n",
      "2014-03-01       3   DELL INSPIRON 15R N5010 6 CELL ORIGINAL BATTERY    \n",
      "2014-03-01       4                               Portronics My Buddy    \n",
      "2014-09-18       5  Pindia Beautiful Home shaped wooden wall key h...   \n",
      "...            ...                                                ...   \n",
      "2019-10-18     168  Glasgow Edge to Edge Tempered Glass Screen Pro...   \n",
      "2019-10-18     169  Newlike Nokia 6.1 Plus 2018 Shock Proof Duel L...   \n",
      "2019-10-18     170  Nayasa Superplast Plastic Oil Dispenser 1 Litr...   \n",
      "2019-10-26     171  Cello H2O Stainless Steel Water Bottle, 1 Litr...   \n",
      "2019-10-26     172  Cello Max Fresh Hot Wave Lunch Box with Inner ...   \n",
      "\n",
      "               Item\\n Price   Total Purchase Date  year  Month  \n",
      "Purchase Date                                                   \n",
      "2013-12-25              3999   4048    2013-12-25  2013     12  \n",
      "2014-03-01               396    426    2014-03-01  2014      3  \n",
      "2014-03-01              1860   1860    2014-03-01  2014      3  \n",
      "2014-03-01              1699   1899    2014-03-01  2014      3  \n",
      "2014-09-18               326    326    2014-09-18  2014      9  \n",
      "...                      ...    ...           ...   ...    ...  \n",
      "2019-10-18               149    149    2019-10-18  2019     10  \n",
      "2019-10-18               299    299    2019-10-18  2019     10  \n",
      "2019-10-18               129    129    2019-10-18  2019     10  \n",
      "2019-10-26               459    459    2019-10-26  2019     10  \n",
      "2019-10-26               648    648    2019-10-26  2019     10  \n",
      "\n",
      "[172 rows x 7 columns]\n"
     ]
    }
   ],
   "source": [
    "string_type = df.select_dtypes(exclude=['float64'])\n",
    "print(string_type)"
   ]
  },
  {
   "cell_type": "code",
   "execution_count": 27,
   "metadata": {},
   "outputs": [
    {
     "name": "stdout",
     "output_type": "stream",
     "text": [
      "Seagate Expansion 1TB Portable External Hard Drive  3999\n",
      "Freedom at Midnight  396\n",
      "DELL INSPIRON 15R N5010 6 CELL ORIGINAL BATTERY  1860\n",
      "Portronics My Buddy  1699\n",
      "Pindia Beautiful Home shaped wooden wall key hanger panel  326\n",
      "Generic Micro USB OTG Cable for Tablets and Mobiles (Black)  49\n",
      "Seagate Backup Plus Slim 1TB Portable External Hard Drive (Black)  4275\n",
      "Super it Noodle Flat Aux Stereo 3.5mm jack Cable for Music Transfer for CAR/ Laptop and Speakers  84\n",
      "Oracle Business Intelligence 11g Developers Guide  759\n",
      "Style Homez Classic Bean Bag XXL Size Brown with Fillers  1992\n",
      "Quantum 4 Port USB Hub with Switch and LED Indicator  140\n",
      "Netgear JNR1010-100PES 4PT BRIC N150 Wireless Router  825\n",
      "The Data Warehouse Lifecycle Toolkit  532\n",
      "Adidas Pure Game for Men, 100ml  499\n",
      "Nike Original EDT for Women, Pink, 75ml  599\n",
      "meSleep Blue Butterfly Mouse Pad  129\n",
      "Signoraware Quick Carry Lunch Box with Bag, Deep Violet  420\n",
      "Lava ARC One (White)  1375\n",
      "Storite Micro LED Lighting Smile Face Design USB Only CHARGING Cable for Samsung Nokia Lg Micromax sony HTC(Black)  149\n",
      "Building the Data Warehouse  375\n",
      "5 Piece Mouse Trap Non-Toxic Glue Pad Safe for Pets and Children  225\n",
      "Urban Living Multiutility Undergarment Pouch For Easy Traveling(25.4X11.4X12.7 Cm,Navy Blue)  319\n",
      "Skybags Polyester Black Carry-On (DFTITA52BLK)  2178\n",
      "Skybags Scot SP 68 cm Black Soft Trolley  5299\n",
      "2 Port KVM Switch  599\n",
      "Tupperware Coffee Mugs Set, Set of 4 (180)  509\n",
      "Hawkins Futura Hard Anodised Sauce Pan, 1.5 Litres  706\n",
      "Tupperware MM Round Container Set, 440ml, Set of 4  625\n",
      "Eco Lights Wishing Lights Paper Sky Lanterns ( 90 cms X 45 cms, Mixed Colours)-Pack of 15  650\n",
      "Tupperware Tall Cool N Fresh, 1.5 Litres  250\n",
      "Dandak Shabari  130\n",
      "Gajamukta  100\n",
      "ASCENSION decoration lighting for diwali christmas Rice lights Serial bulbs - SET OF 4  179\n",
      "Shengshou 3x3 Silver Mirror Cube  179\n",
      "Shengshou 3x3x3 Puzzle Cube Black  199\n",
      "EMPATHY MANUAL WATER PUMP for BISLERI BOTTLES  575\n",
      "Bosch 46 Piece Screwdriver Set (Black and Silver)  1099\n",
      "Scotch-Brite Jet Scrubber and Kitchen Squeegee Combo  286\n",
      "Scotch-Brite Household Scrubber Brush  199\n",
      "Ocean Victoria Glass Set, 6-Pieces, 325ml  339\n",
      "Amazon.in Black Gift Card Box - Rs.1000, Black Card  1000\n",
      "HP V210W 16GB USB Pen Drive  470\n",
      "Black Single Round Mesh Metal Pen Pencil Tool Holder Table Desk Organizer for Home Office  120\n",
      "2 of GadgetsAccessories (100cm = 3 Foot = 1M) USB 3.0 Male A To Female A Extension Cable SuperSpeed 5GBps for Laptop/PC/Mac/Printers (with open female port  378\n",
      "Quick Heal Antivirus Pro - 2 PCs, 1 Year (DVD)  619\n",
      "Amazon.in Black Gift Card Box - Rs.1000, Black Card  1000\n",
      "Viva Sports EP-05 Ear Plug  130\n"
     ]
    }
   ],
   "source": [
    "for i in range(len(df.loc['2016'])) : \n",
    "  print(df.iloc[i, 1], df.iloc[i, 2]) "
   ]
  },
  {
   "cell_type": "code",
   "execution_count": null,
   "metadata": {},
   "outputs": [],
   "source": []
  }
 ],
 "metadata": {
  "kernelspec": {
   "display_name": "Python 3",
   "language": "python",
   "name": "python3"
  },
  "language_info": {
   "codemirror_mode": {
    "name": "ipython",
    "version": 3
   },
   "file_extension": ".py",
   "mimetype": "text/x-python",
   "name": "python",
   "nbconvert_exporter": "python",
   "pygments_lexer": "ipython3",
   "version": "3.7.4"
  }
 },
 "nbformat": 4,
 "nbformat_minor": 2
}
